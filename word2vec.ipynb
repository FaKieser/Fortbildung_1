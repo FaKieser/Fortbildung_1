{
 "cells": [
  {
   "cell_type": "markdown",
   "id": "4549d607-af40-4965-8f39-b0bed74b135b",
   "metadata": {},
   "source": [
    "# Einführung in Word2Vec\n",
    "adaptiert von: Eugenio Tufino et al. (2024)"
   ]
  },
  {
   "cell_type": "markdown",
   "id": "0bc71394-c800-4a1d-a986-0af0ce2b426c",
   "metadata": {},
   "source": [
    "Word2Vec ist ein leistungsstarker Algorithmus, der von Mikolov et al. (2013) eingeführt wurde, um Wort-Embeddings – numerische Vektor-Darstellungen von Wörtern – zu lernen. Diese Embeddings erfassen semantische Beziehungen zwischen Wörtern, indem sie deren Ko-Vorkommen innerhalb eines großen Textkorpus analysieren. Wörter, die in ähnlichen Kontexten erscheinen, werden in Vektoren abgebildet, die einander in einem hochdimensionalen Raum nahe sind, wodurch Beziehungen wie Analogien entdeckt werden können (z.B. \"König\" - \"Mann\" + \"Frau\" ≈ \"Königin\").\n",
    "Durch die Darstellung von Wörtern als Vektoren eröffnet Word2Vec die Möglichkeit, komplexe sprachliche und konzeptionelle Beziehungen auf eine intuitive, mathematische Weise zu untersuchen.\n",
    "Dieses Notebook ermöglicht, das Word2Vec-Modell interaktiv zu erkunden."
   ]
  },
  {
   "cell_type": "markdown",
   "id": "125039b2-375d-470c-aa0c-9fa4394fb38f",
   "metadata": {},
   "source": [
    "# 1. Importieren der Bibliotheken für die Verwendung von Word2Vec."
   ]
  },
  {
   "cell_type": "code",
   "execution_count": 35,
   "id": "87c7992e-8b2e-4cdc-a4f3-cc9170501cc6",
   "metadata": {},
   "outputs": [],
   "source": [
    "import numpy as np\n",
    "import matplotlib.pyplot as plt\n",
    "import gensim.downloader as api\n",
    "from sklearn.decomposition import PCA"
   ]
  },
  {
   "cell_type": "markdown",
   "id": "df05d998-4bb3-4b6b-aacf-c5775a326835",
   "metadata": {},
   "source": [
    "Für diesen Workshop, bei dem die Zeit- und Computerressourcen begrenzt sind, können wir zwischen drei verschiedenen Modellen wählen.\n",
    "<!DOCTYPE html>\n",
    "<html lang=\"de\">\n",
    "<head>\n",
    "    <meta charset=\"UTF-8\">\n",
    "    <meta name=\"viewport\" content=\"width=device-width, initial-scale=1.0\">\n",
    "</head>\n",
    "<body>\n",
    "    <ul>\n",
    "        <li>glove-twitter-25</li>\n",
    "        <li>Glove-Wikipedia-Gigaword-100</li>\n",
    "        <li>Word2Vec-Google-News-300 (wenn genügend Zeit und Bandbreite vorhanden ist)</li>\n",
    "    </ul>\n",
    "    <p>\n",
    "        Verschiedene Word2Vec-Modelle haben unterschiedliche Fähigkeiten. Jedes Word2Vec-Modell wird auf einem bestimmten Korpus (Datensatz) und mit unterschiedlichen Parametern trainiert, was die Leistung für bestimmte Aufgaben beeinflusst. Für die folgenden Aufgaben ist zu beachten, dass die Modelle ausschließlich auf die englische Sprache trainiert wurden.\n",
    "    </p>\n",
    "</body>\n",
    "</html>"
   ]
  },
  {
   "cell_type": "markdown",
   "id": "2619c375-eebd-4241-8c22-5c6c7d640dd8",
   "metadata": {},
   "source": [
    "1. Model (Twitter):"
   ]
  },
  {
   "cell_type": "code",
   "execution_count": 49,
   "id": "442d402d-eb6d-449d-a2a2-cb477ff18e93",
   "metadata": {},
   "outputs": [],
   "source": [
    "model_twitter = api.load('glove-twitter-25')"
   ]
  },
  {
   "cell_type": "markdown",
   "id": "0ae0f778-4d37-4708-9791-afe762d115cc",
   "metadata": {},
   "source": [
    "2. Model:"
   ]
  },
  {
   "cell_type": "code",
   "execution_count": 52,
   "id": "3b903608-8e6c-4921-98a2-43315c4823b4",
   "metadata": {},
   "outputs": [],
   "source": [
    "glove_model = api.load('glove-wiki-gigaword-100')"
   ]
  },
  {
   "cell_type": "markdown",
   "id": "d41e8762-44a0-4569-b64b-0150ab01b068",
   "metadata": {},
   "source": [
    "3. Model (ungefähre 1.5 GB):"
   ]
  },
  {
   "cell_type": "code",
   "execution_count": 57,
   "id": "ce8042f9-a984-4e5b-8d52-efd21b74bdcb",
   "metadata": {},
   "outputs": [],
   "source": [
    "google_news_model = api.load('word2vec-google-news-300')"
   ]
  },
  {
   "cell_type": "markdown",
   "id": "052e35a3-579b-4c6d-8ff6-8c162346e9e1",
   "metadata": {},
   "source": [
    "## 2. Exploration der Modelle"
   ]
  },
  {
   "cell_type": "markdown",
   "id": "54611d4c-9589-45a7-b510-f3154dd03828",
   "metadata": {},
   "source": [
    "Überprüfen Sie die Größe des Vokabulars und die Dimension des Vektoraums der Modelle. "
   ]
  },
  {
   "cell_type": "code",
   "execution_count": 80,
   "id": "4841bd8e-f95e-442a-96fc-7d35b4029659",
   "metadata": {},
   "outputs": [
    {
     "name": "stdout",
     "output_type": "stream",
     "text": [
      "Die Größe des Vokabulars beträgt: 400000\n",
      "Die Dimension der Vektoren ist 100.\n"
     ]
    }
   ],
   "source": [
    "model=glove_model\n",
    "vocabulary_size = len(model.key_to_index)\n",
    "print(f\"Die Größe des Vokabulars beträgt: {vocabulary_size}\")\n",
    "# Check the vector size (number of dimensions)\n",
    "vector_size = model.vector_size\n",
    "print(f\"Die Dimension der Vektoren ist {vector_size}.\")\n"
   ]
  },
  {
   "cell_type": "markdown",
   "id": "347dfb06-cf93-4bec-bfb6-0250b69f0922",
   "metadata": {},
   "source": [
    "Wir können auch die Liste aller verfügbaren Funktionen und Attribute des Modells überprüfen."
   ]
  },
  {
   "cell_type": "code",
   "execution_count": 86,
   "id": "f0d18d01-6244-4113-a648-674b934fa8f5",
   "metadata": {},
   "outputs": [
    {
     "name": "stdout",
     "output_type": "stream",
     "text": [
      "['add_lifecycle_event', 'add_vector', 'add_vectors', 'allocate_vecattrs', 'closer_than', 'cosine_similarities', 'distance', 'distances', 'doesnt_match', 'evaluate_word_analogies', 'evaluate_word_pairs', 'expandos', 'fill_norms', 'get_index', 'get_mean_vector', 'get_normed_vectors', 'get_vecattr', 'get_vector', 'has_index_for', 'index2entity', 'index2word', 'index_to_key', 'init_sims', 'intersect_word2vec_format', 'key_to_index', 'lifecycle_events', 'load', 'load_word2vec_format', 'log_accuracy', 'log_evaluate_word_pairs', 'mapfile_path', 'most_similar', 'most_similar_cosmul', 'most_similar_to_given', 'n_similarity', 'next_index', 'norms', 'rank', 'rank_by_centrality', 'relative_cosine_similarity', 'resize_vectors', 'save', 'save_word2vec_format', 'set_vecattr', 'similar_by_key', 'similar_by_vector', 'similar_by_word', 'similarity', 'similarity_unseen_docs', 'sort_by_descending_frequency', 'unit_normalize_all', 'vector_size', 'vectors', 'vectors_for_all', 'vectors_norm', 'vocab', 'wmdistance', 'word_vec', 'words_closer_than']\n"
     ]
    }
   ],
   "source": [
    "public_methods = [method for method in dir(model) if not method.startswith(\"_\")]\n",
    "print(public_methods)"
   ]
  },
  {
   "cell_type": "markdown",
   "id": "809c1be4-4eb1-4229-b129-2c5e844612a9",
   "metadata": {},
   "source": [
    "<!DOCTYPE html>\n",
    "<html lang=\"de\">\n",
    "<head>\n",
    "    <meta charset=\"UTF-8\">\n",
    "    <meta name=\"viewport\" content=\"width=device-width, initial-scale=1.0\">\n",
    "    <title>Wichtige Funktionen für Word2Vec-Modelle</title>\n",
    "</head>\n",
    "    <ul>\n",
    "        <li><strong>model.most_similar(word, topn=5):</strong> Findet die Top-N-Wörter, die dem gegebenen Wort am ähnlichsten sind.\n",
    "            <br><em>Beispiel: model.most_similar(\"physics\", topn=5)</em>\n",
    "        </li>\n",
    "        <li><strong>model.similarity(word1, word2):</strong> Berechnet den Ähnlichkeitswert zwischen zwei Wörtern.\n",
    "            <br><em>Beispiel: model.similarity(\"physics\", \"science\")</em>\n",
    "        </li>\n",
    "        <li><strong>model.doesnt_match(list_of_words):</strong> Findet das Wort, das nicht zu den anderen passt.\n",
    "            <br><em>Beispiel: model.doesnt_match([\"physics\", \"chemistry\", \"cat\"])</em>\n",
    "        </li>\n",
    "        <li><strong>model.get_vector(word):</strong> Holt die Vektor-Repräsentation eines Wortes.\n",
    "            <br><em>Beispiel: vector = model.get_vector(\"physics\")</em>\n",
    "        </li>\n",
    "    </ul>\n",
    "    <p>Zur Vereinfachung sind die folgenden vordefinierten Funktionen im Notebook enthalten. Diese bauen auf dem vorab geladenen Modell auf, wodurch es den Studenten leicht gemacht wird, ohne zusätzliche Einrichtung zu experimentieren.</p>\n",
    "</body>\n",
    "</html>"
   ]
  },
  {
   "cell_type": "code",
   "execution_count": 94,
   "id": "ded813b1-afdd-4da1-805a-1c2c5de9499c",
   "metadata": {},
   "outputs": [],
   "source": [
    "def find_similar_words(word, topn=5):\n",
    "  \"\"\"\n",
    "    Findet die top-N ähnlichsten Wörter zum gegebenen Wort.\n",
    "\n",
    "    Parameter:\n",
    "        word (str): Das Wort, für das ähnliche Wörter gefunden werden sollen.\n",
    "        topn (int): Anzahl der zurückgegebenen ähnlichen Wörter (Standardwert ist 5).\n",
    "\n",
    "    Rückgabewert:\n",
    "        list: Eine Liste von Tupeln (Wort, Ähnlichkeitswert).\n",
    "  \"\"\"\n",
    "  return model.most_similar(word, topn=topn)\n",
    "\n",
    "def analogy(word1, word2, word3, topn=1):\n",
    "  \"\"\"\n",
    "  Löst eine Analogie der Form: word1 ist zu word2 wie word3 zu ?.\n",
    "\n",
    "    Parameter:\n",
    "        word1 (str): Das erste Wort in der Analogie (das \"Basis\"-Wort, das subtrahiert wird).\n",
    "        word2 (str): Das zweite Wort in der Analogie (das \"Ziel\"-Wort, das hinzugefügt wird).\n",
    "        word3 (str): Das dritte Wort in der Analogie (das \"Vergleichs\"-Wort, das hinzugefügt wird).\n",
    "        topn (int): Anzahl der zurückgegebenen Ergebnisse (Standardwert: 1).\n",
    "  \"\"\"\n",
    "  return model.most_similar(positive=[word2, word3], negative=[word1], topn=topn)\n",
    "\n",
    "def visualize_words(words):\n",
    "    \"\"\"\n",
    "    2D Visualisierung von Wort-Embeddings.\n",
    "    Diese Funktion nimmt eine Liste von Wörtern, ruft die entsprechenden Wort-Embeddings\n",
    "    aus dem geladenen Word2Vec-Modell ab und reduziert die Dimensionalität der Embeddings\n",
    "    auf 2D mittels Hauptkomponentenanalyse (PCA).\n",
    "    Die resultierenden 2D-Vektoren werden als Punkte in einem Streudiagramm dargestellt.\n",
    "\n",
    "    \"\"\"\n",
    "    word_vectors = [model[word] for word in words]\n",
    "    pca = PCA(n_components=2)\n",
    "    word_vectors_2d = pca.fit_transform(word_vectors)\n",
    "\n",
    "    plt.figure(figsize=(10, 8))\n",
    "    plt.scatter(word_vectors_2d[:, 0], word_vectors_2d[:, 1])\n",
    "    for i, word in enumerate(words):\n",
    "        plt.annotate(word, xy=(word_vectors_2d[i, 0], word_vectors_2d[i, 1]))\n",
    "\n",
    "    plt.title(\"2D Visualisierung von Wort-Embeddings\", fontsize=20)\n",
    "    plt.xlabel(\"Hauptkomponente 1\", fontsize=18)\n",
    "    plt.ylabel(\"Hauptkomponente 2\", fontsize=18)\n",
    "    plt.grid(True)\n",
    "    plt.show()"
   ]
  },
  {
   "cell_type": "markdown",
   "id": "a7093d16-c444-473d-ae7c-1c021b680974",
   "metadata": {},
   "source": [
    "<!DOCTYPE html>\n",
    "<html lang=\"de\">\n",
    "<body>\n",
    "    <h1>Ähnliche Worte</h1>\n",
    "    <p>Die Funktion gilt nur für Wörter, die ursprünglich im Modellvokabular enthalten sind.</p>\n",
    "</body>\n",
    "</html>"
   ]
  },
  {
   "cell_type": "code",
   "execution_count": 153,
   "id": "ff0fea2d-de79-41bc-ba9f-9f4cbf7c008a",
   "metadata": {},
   "outputs": [
    {
     "data": {
      "text/plain": [
       "[('chemistry', 0.8497999906539917),\n",
       " ('mathematics', 0.834094762802124),\n",
       " ('science', 0.7914698719978333),\n",
       " ('biology', 0.7894973158836365),\n",
       " ('theoretical', 0.7342938780784607)]"
      ]
     },
     "execution_count": 153,
     "metadata": {},
     "output_type": "execute_result"
    }
   ],
   "source": [
    "# Beispiel 1\n",
    "find_similar_words(\"physics\")"
   ]
  },
  {
   "cell_type": "code",
   "execution_count": 102,
   "id": "56e0524c-192c-42a1-b6bc-2c4b70c98a0d",
   "metadata": {},
   "outputs": [
    {
     "data": {
      "text/plain": [
       "[('the', 0.7568359971046448),\n",
       " ('present', 0.7507789134979248),\n",
       " ('change', 0.7466318607330322),\n",
       " ('this', 0.7455748319625854),\n",
       " ('its', 0.7453489899635315)]"
      ]
     },
     "execution_count": 102,
     "metadata": {},
     "output_type": "execute_result"
    }
   ],
   "source": [
    "# Example 2\n",
    "find_similar_words(\"current\")"
   ]
  },
  {
   "cell_type": "markdown",
   "id": "0efaa6de-b6cf-4018-920f-3bcfa900e372",
   "metadata": {},
   "source": [
    "<h1>Analogien</h1>"
   ]
  },
  {
   "cell_type": "code",
   "execution_count": 105,
   "id": "0d4165e5-b162-4fd7-a55f-b320508b8c9d",
   "metadata": {},
   "outputs": [
    {
     "name": "stdout",
     "output_type": "stream",
     "text": [
      "\n",
      "Analogie: electron : proton :: negative : ?\n",
      "[('positive', 0.6567757725715637)]\n"
     ]
    }
   ],
   "source": [
    "word1, word2, word3 = \"electron\", \"proton\", \"negative\"\n",
    "print(f\"\\nAnalogie: {word1} : {word2} :: {word3} : ?\")\n",
    "print(analogy(word1, word2, word3))"
   ]
  },
  {
   "cell_type": "code",
   "execution_count": 111,
   "id": "ccc0f907-c21a-4eca-a92b-8aa1210574b5",
   "metadata": {},
   "outputs": [
    {
     "name": "stdout",
     "output_type": "stream",
     "text": [
      "\n",
      "Analogy: japanise : sushi :: italian : ?\n",
      "[('pasta', 0.6288173794746399), ('tapas', 0.6202685236930847), ('chef', 0.620057225227356), ('dessert', 0.6084833145141602), ('chefs', 0.5927476286888123)]\n"
     ]
    }
   ],
   "source": [
    "print(\"\\nAnalogy: japanise : sushi :: italian : ?\")\n",
    "print(analogy('japanese', 'sushi', 'italian',topn=5))"
   ]
  },
  {
   "cell_type": "code",
   "execution_count": 113,
   "id": "8ce149f7-8362-4659-a436-48b0810f7858",
   "metadata": {},
   "outputs": [
    {
     "name": "stdout",
     "output_type": "stream",
     "text": [
      "\n",
      "Analogie: man : surgeon :: woman : ?\n",
      "[('paramedic', 0.6217485070228577)]\n"
     ]
    }
   ],
   "source": [
    "print(\"\\nAnalogie: man : surgeon :: woman : ?\")\n",
    "print(analogy('man', 'medic', 'woman'))"
   ]
  },
  {
   "cell_type": "markdown",
   "id": "3cc65013-64b9-4559-aa48-0e17e3a8085d",
   "metadata": {},
   "source": [
    "<!DOCTYPE html>\n",
    "<html lang=\"de\">\n",
    "<head>\n",
    "    <meta charset=\"UTF-8\">\n",
    "    <meta name=\"viewport\" content=\"width=device-width, initial-scale=1.0\">\n",
    "</head>\n",
    "<body>\n",
    "    <h1>Visualisierung von Word Embeddings in zwei Dimensionen</h1>\n",
    "    <p>\n",
    "        Die Visualisierung eines Vektors in 2D wird mit Hauptkomponentenanalyse (Principal Component Analysis, PCA) erreicht. \n",
    "        PCA reduziert den hochdimensionalen Vektorraum auf 2D. \n",
    "        PCA kann dabei wichtige Beziehungen zwischen Wörtern in den reduzierten Dimensionen verlieren. \n",
    "        Es ist eher für die Visualisierung geeignet, nicht für präzise Analysen.\n",
    "    </p>\n",
    "</body>\n",
    "</html>"
   ]
  },
  {
   "cell_type": "code",
   "execution_count": 128,
   "id": "7eea5230-9c83-40a5-bd71-2854ff76ad0a",
   "metadata": {},
   "outputs": [
    {
     "data": {
      "image/png": "[encoded data removed]",
      "text/plain": [
       "<Figure size 1000x800 with 1 Axes>"
      ]
     },
     "metadata": {},
     "output_type": "display_data"
    }
   ],
   "source": [
    "visualize_words(['physics', 'energy', 'matter', 'space', 'time'])"
   ]
  },
  {
   "cell_type": "code",
   "execution_count": null,
   "id": "259d4b48-46f1-4426-af7a-23cfaa873f82",
   "metadata": {},
   "outputs": [],
   "source": []
  }
 ],
 "metadata": {
  "kernelspec": {
   "display_name": "Python 3 (ipykernel)",
   "language": "python",
   "name": "python3"
  },
  "language_info": {
   "codemirror_mode": {
    "name": "ipython",
    "version": 3
   },
   "file_extension": ".py",
   "mimetype": "text/x-python",
   "name": "python",
   "nbconvert_exporter": "python",
   "pygments_lexer": "ipython3",
   "version": "3.12.7"
  }
 },
 "nbformat": 4,
 "nbformat_minor": 5
}
